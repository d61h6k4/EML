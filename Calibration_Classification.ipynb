{
  "nbformat": 4,
  "nbformat_minor": 0,
  "metadata": {
    "colab": {
      "provenance": [],
      "collapsed_sections": [],
      "authorship_tag": "ABX9TyO/og5khFaqMUQnlhp2oaeS",
      "include_colab_link": true
    },
    "kernelspec": {
      "name": "python3",
      "display_name": "Python 3"
    },
    "language_info": {
      "name": "python"
    }
  },
  "cells": [
    {
      "cell_type": "markdown",
      "metadata": {
        "id": "view-in-github",
        "colab_type": "text"
      },
      "source": [
        "<a href=\"https://colab.research.google.com/github/d61h6k4/EML/blob/main/Calibration_Classification.ipynb\" target=\"_parent\"><img src=\"https://colab.research.google.com/assets/colab-badge.svg\" alt=\"Open In Colab\"/></a>"
      ]
    },
    {
      "cell_type": "code",
      "execution_count": null,
      "metadata": {
        "id": "RPhDS3xFjJrB"
      },
      "outputs": [],
      "source": [
        "%matplotlib inline\n",
        "\n",
        "from collections import Counter\n",
        "from matplotlib import pyplot as plt\n",
        "\n",
        "from sklearn.datasets import load_wine\n",
        "from sklearn.model_selection import ShuffleSplit\n",
        "\n",
        "import torch"
      ]
    },
    {
      "cell_type": "code",
      "source": [
        "X, Y = load_wine(return_X_y=True)\n",
        "train_val_idx, test_idx = next(ShuffleSplit(n_splits=1, test_size=0.2).split(X, Y))\n",
        "train_idx, val_idx = next(ShuffleSplit(n_splits=1, test_size=0.2).split(X[train_val_idx], Y[train_val_idx]))\n",
        "X_train, Y_train = X[train_idx], Y[train_idx]\n",
        "X_val, Y_val = X[val_idx], Y[val_idx]\n",
        "X_test, Y_test = X[test_idx], Y[test_idx]"
      ],
      "metadata": {
        "id": "-dDwWHAxjWn3"
      },
      "execution_count": null,
      "outputs": []
    },
    {
      "cell_type": "code",
      "source": [
        "fig, ax = plt.subplots()\n",
        "\n",
        "train_counter = Counter(Y_train)\n",
        "val_counter = Counter(Y_val)\n",
        "test_counter = Counter(Y_test)\n",
        "\n",
        "ax.bar([x - 0.2 for x in train_counter.keys()], [x / sum(train_counter.values())  for x in train_counter.values()], align=\"center\", width=0.2, label=\"train\")\n",
        "ax.bar(val_counter.keys(), [x / sum(val_counter.values())  for x in val_counter.values()], align=\"center\", width=0.2, label=\"val\")\n",
        "ax.bar([x + 0.1 for x in test_counter.keys()], [x / sum(test_counter.values())  for x in test_counter.values()], align=\"edge\", width=0.2, label=\"test\")\n",
        "ax.legend()\n",
        "\n",
        "fig.show()"
      ],
      "metadata": {
        "colab": {
          "base_uri": "https://localhost:8080/",
          "height": 265
        },
        "id": "iybWEpXYjdzj",
        "outputId": "82db5fd7-9205-4ae2-b04d-ace51034870c"
      },
      "execution_count": null,
      "outputs": [
        {
          "output_type": "display_data",
          "data": {
            "text/plain": [
              "<Figure size 432x288 with 1 Axes>"
            ],
            "image/png": "[encoded data removed]"
          },
          "metadata": {
            "needs_background": "light"
          }
        }
      ]
    },
    {
      "cell_type": "markdown",
      "source": [
        "## Model"
      ],
      "metadata": {
        "id": "WRcbOeJRpQO-"
      }
    },
    {
      "cell_type": "code",
      "source": [
        "input_dim = 13\n",
        "hidden_dim = 3\n",
        "output_dim = 3\n",
        "\n",
        "W = torch.empty((input_dim, output_dim), requires_grad=True)\n",
        "torch.nn.init.xavier_normal_(W)\n",
        "b = torch.empty((output_dim,), requires_grad=True)"
      ],
      "metadata": {
        "id": "SIai6reKje7m"
      },
      "execution_count": null,
      "outputs": []
    },
    {
      "cell_type": "markdown",
      "source": [
        "### Training"
      ],
      "metadata": {
        "id": "-QOfz40Gpy_t"
      }
    },
    {
      "cell_type": "code",
      "source": [
        "x_batch = torch.from_numpy(X_train).float()\n",
        "y_batch = torch.from_numpy(Y_train)"
      ],
      "metadata": {
        "id": "8Jk4ZooXmBN2"
      },
      "execution_count": null,
      "outputs": []
    },
    {
      "cell_type": "code",
      "source": [
        "learning_rate = 4e-5\n",
        "loss = torch.nn.CrossEntropyLoss()"
      ],
      "metadata": {
        "id": "nu4smZkYqzu8"
      },
      "execution_count": null,
      "outputs": []
    },
    {
      "cell_type": "code",
      "source": [
        "for ix in range(50000):\n",
        "\n",
        "    y_raw = x_batch @ W + b\n",
        "\n",
        "    output = loss(y_raw, y_batch)\n",
        "    output.backward()\n",
        "    W.data += -learning_rate * W.grad\n",
        "    b.data += -learning_rate * b.grad\n",
        "\n",
        "    W.grad = None\n",
        "    b.grad = None\n",
        "\n",
        "    if ix % 5000 == 0:\n",
        "        print(output.item())"
      ],
      "metadata": {
        "colab": {
          "base_uri": "https://localhost:8080/"
        },
        "id": "UrFlevuEqCZD",
        "outputId": "64808f84-2de8-47ed-e295-52404b21996c"
      },
      "execution_count": null,
      "outputs": [
        {
          "output_type": "stream",
          "name": "stdout",
          "text": [
            "225.2593231201172\n",
            "0.5816102027893066\n",
            "0.3684985339641571\n",
            "0.3531574010848999\n",
            "0.3413535952568054\n",
            "0.33036768436431885\n",
            "0.3200596570968628\n",
            "0.310367226600647\n",
            "0.3012453317642212\n",
            "0.2926490306854248\n"
          ]
        }
      ]
    },
    {
      "cell_type": "markdown",
      "source": [
        "### Calibration"
      ],
      "metadata": {
        "id": "XHJ4UcF2G9ZT"
      }
    },
    {
      "cell_type": "code",
      "source": [
        "pred_val = torch.nn.functional.softmax(torch.from_numpy(X_val).float() @ W + b, dim=1)\n",
        "torch.argmax(pred_val, dim=1)"
      ],
      "metadata": {
        "colab": {
          "base_uri": "https://localhost:8080/"
        },
        "id": "x6VCpv-tG9GP",
        "outputId": "356113d4-be28-49b3-8e32-81c135aae514"
      },
      "execution_count": null,
      "outputs": [
        {
          "output_type": "execute_result",
          "data": {
            "text/plain": [
              "tensor([1, 0, 1, 1, 0, 0, 1, 1, 0, 0, 0, 1, 1, 1, 1, 0, 1, 1, 1, 0, 0, 0, 0, 1,\n",
              "        1, 1, 0, 1, 0])"
            ]
          },
          "metadata": {},
          "execution_count": 8
        }
      ]
    },
    {
      "cell_type": "code",
      "source": [
        "qhat = torch.quantile(pred_val[torch.arange(pred_val.size(dim=0)), Y_val], 0.1, interpolation=\"lower\")\n",
        "torch.where(pred_val > qhat)"
      ],
      "metadata": {
        "colab": {
          "base_uri": "https://localhost:8080/"
        },
        "id": "d_QtOUKVHTyL",
        "outputId": "3cd5e928-c2da-4430-e45d-c07f899f5056"
      },
      "execution_count": null,
      "outputs": [
        {
          "output_type": "execute_result",
          "data": {
            "text/plain": [
              "(tensor([ 0,  1,  2,  3,  3,  4,  5,  6,  6,  7,  8,  9, 10, 11, 12, 13, 14, 14,\n",
              "         15, 16, 16, 17, 17, 18, 19, 20, 21, 22, 22, 23, 24, 24, 25, 26, 26, 27,\n",
              "         28]),\n",
              " tensor([1, 0, 1, 0, 1, 0, 0, 0, 1, 1, 0, 0, 0, 1, 1, 1, 1, 2, 0, 1, 2, 0, 1, 1,\n",
              "         0, 0, 0, 0, 1, 1, 1, 2, 1, 0, 1, 1, 0]))"
            ]
          },
          "metadata": {},
          "execution_count": 9
        }
      ]
    },
    {
      "cell_type": "code",
      "source": [
        "Y_val"
      ],
      "metadata": {
        "colab": {
          "base_uri": "https://localhost:8080/"
        },
        "id": "w97JfQulIugp",
        "outputId": "c534a139-d0cf-4473-dde0-6bd441f1464d"
      },
      "execution_count": null,
      "outputs": [
        {
          "output_type": "execute_result",
          "data": {
            "text/plain": [
              "array([1, 0, 1, 0, 0, 0, 1, 1, 0, 1, 0, 1, 1, 1, 1, 0, 2, 0, 0, 0, 0, 0,\n",
              "       0, 2, 2, 1, 0, 1, 0])"
            ]
          },
          "metadata": {},
          "execution_count": 10
        }
      ]
    },
    {
      "cell_type": "markdown",
      "source": [
        "## Inference"
      ],
      "metadata": {
        "id": "yQA8-e1Vs88N"
      }
    },
    {
      "cell_type": "code",
      "source": [
        "pred_test = torch.nn.functional.softmax(torch.from_numpy(X_test).float() @ W + b, dim=1)"
      ],
      "metadata": {
        "id": "55L3C6mLs8sE"
      },
      "execution_count": null,
      "outputs": []
    },
    {
      "cell_type": "code",
      "source": [
        "fig, ax = plt.subplots()\n",
        "\n",
        "train_counter = Counter(Y_train)\n",
        "val_counter = Counter(Y_val)\n",
        "test_counter = Counter(Y_test)\n",
        "\n",
        "ax.bar([x - 0.2 for x in train_counter.keys()], [x / sum(train_counter.values())  for x in train_counter.values()], align=\"center\", width=0.2, label=\"train\")\n",
        "ax.bar(val_counter.keys(), [x / sum(val_counter.values())  for x in val_counter.values()], align=\"center\", width=0.2, label=\"val\")\n",
        "ax.bar([x + 0.1 for x in test_counter.keys()], [x / sum(test_counter.values())  for x in test_counter.values()], align=\"edge\", width=0.2, label=\"test\")\n",
        "ax.legend()\n",
        "\n",
        "fig.show()"
      ],
      "metadata": {
        "colab": {
          "base_uri": "https://localhost:8080/",
          "height": 265
        },
        "id": "BSiPahOttspe",
        "outputId": "a386f5fc-8487-4077-a168-d650106e4b12"
      },
      "execution_count": null,
      "outputs": [
        {
          "output_type": "display_data",
          "data": {
            "text/plain": [
              "<Figure size 432x288 with 1 Axes>"
            ],
            "image/png": "[encoded data removed]"
          },
          "metadata": {
            "needs_background": "light"
          }
        }
      ]
    },
    {
      "cell_type": "code",
      "source": [
        "fig, axs = plt.subplots(nrows=1, ncols=3, figsize=(12, 4), sharey=True)\n",
        "\n",
        "for ax, label, y in zip(axs, (\"gt\", \"pred\", \"calib\"), (Y_test, torch.argmax(pred_test, dim=1).numpy(), torch.where((pred_test > qhat)[torch.arange(pred_test.size(dim=0)), Y_test], torch.from_numpy(Y_test), torch.tensor([3])).numpy())):\n",
        "    c = Counter(y)\n",
        "    ax.set_title(label)\n",
        "    ax.bar(c.keys(), [x / sum(c.values()) for x in c.values()])\n",
        "fig.show()"
      ],
      "metadata": {
        "colab": {
          "base_uri": "https://localhost:8080/",
          "height": 281
        },
        "id": "SY9jPW-QJa7S",
        "outputId": "004afe0a-c9b4-40bb-9cb0-1d8f408910a2"
      },
      "execution_count": null,
      "outputs": [
        {
          "output_type": "display_data",
          "data": {
            "text/plain": [
              "<Figure size 864x288 with 3 Axes>"
            ],
            "image/png": "[encoded data removed]"
          },
          "metadata": {
            "needs_background": "light"
          }
        }
      ]
    },
    {
      "cell_type": "code",
      "source": [],
      "metadata": {
        "id": "v0Xf8F1VLlHt"
      },
      "execution_count": null,
      "outputs": []
    }
  ]
}