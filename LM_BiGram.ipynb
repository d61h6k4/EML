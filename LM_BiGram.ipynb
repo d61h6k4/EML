{
  "nbformat": 4,
  "nbformat_minor": 0,
  "metadata": {
    "colab": {
      "provenance": [],
      "collapsed_sections": [],
      "authorship_tag": "ABX9TyPXWTdURq/9kC5R6+xNPsRo",
      "include_colab_link": true
    },
    "kernelspec": {
      "name": "python3",
      "display_name": "Python 3"
    },
    "language_info": {
      "name": "python"
    }
  },
  "cells": [
    {
      "cell_type": "markdown",
      "metadata": {
        "id": "view-in-github",
        "colab_type": "text"
      },
      "source": [
        "<a href=\"https://colab.research.google.com/github/d61h6k4/EML/blob/main/LM_BiGram.ipynb\" target=\"_parent\"><img src=\"https://colab.research.google.com/assets/colab-badge.svg\" alt=\"Open In Colab\"/></a>"
      ]
    },
    {
      "cell_type": "code",
      "source": [
        "import pathlib\n",
        "import requests\n",
        "import torch"
      ],
      "metadata": {
        "id": "0pdWGzc6hqPQ"
      },
      "execution_count": null,
      "outputs": []
    },
    {
      "cell_type": "code",
      "source": [
        "from torch.nn import functional as F\n",
        "from matplotlib import pyplot as plt"
      ],
      "metadata": {
        "id": "2rZvHgxfjVfI"
      },
      "execution_count": null,
      "outputs": []
    },
    {
      "cell_type": "code",
      "execution_count": null,
      "metadata": {
        "id": "NX2H_ejAhUQE"
      },
      "outputs": [],
      "source": [
        "words = requests.get(\"https://raw.githubusercontent.com/karpathy/makemore/master/names.txt\").text.split('\\n')"
      ]
    },
    {
      "cell_type": "code",
      "source": [
        "itoa = {i + 1: ch for i, ch in enumerate(sorted(set((ch for w in words for ch in w))))}\n",
        "itoa[0] = '.'\n",
        "atoi = {ch: i for i, ch in itoa.items()}"
      ],
      "metadata": {
        "id": "yTCYxE2ci3ET"
      },
      "execution_count": null,
      "outputs": []
    },
    {
      "cell_type": "code",
      "source": [
        "xs = []\n",
        "ys = []\n",
        "\n",
        "for w in words:\n",
        "    enriched_word = '.' + w + '.'\n",
        "    for ch1, ch2 in zip(enriched_word, enriched_word[1:]):\n",
        "        xs.append(atoi[ch1])\n",
        "        ys.append(atoi[ch2])\n",
        "\n",
        "xs = torch.tensor(xs)\n",
        "ys = torch.tensor(ys)\n",
        "num = xs.nelement()\n",
        "print(f\"Dataset contains {num} examples\")"
      ],
      "metadata": {
        "colab": {
          "base_uri": "https://localhost:8080/"
        },
        "id": "CosVh3-1hoZf",
        "outputId": "db876b7f-07be-47fb-9d1b-78853232f0ac"
      },
      "execution_count": null,
      "outputs": [
        {
          "output_type": "stream",
          "name": "stdout",
          "text": [
            "Dataset contains 228146 examples\n"
          ]
        }
      ]
    },
    {
      "cell_type": "code",
      "source": [
        "N = len(itoa) # vocabulary size"
      ],
      "metadata": {
        "id": "zbjOwuKAlLMC"
      },
      "execution_count": null,
      "outputs": []
    },
    {
      "cell_type": "code",
      "source": [
        "W = torch.randn((27, 27), requires_grad=True)"
      ],
      "metadata": {
        "id": "T7W7-B8fouzs"
      },
      "execution_count": null,
      "outputs": []
    },
    {
      "cell_type": "code",
      "source": [
        "for ix in range(1000):\n",
        "    # forward\n",
        "    xenc = F.one_hot(xs, num_classes=N).float()\n",
        "    logits = xenc @ W\n",
        "    prob = F.softmax(logits, dim=1)\n",
        "    loss = -(prob * F.one_hot(ys, num_classes=N).float()).sum(1).log().mean() + 0.01 * (W**2).mean()\n",
        "    \n",
        "    if ix % 50 == 0:\n",
        "        print(f\"loss = {loss.item()}\")\n",
        "    # zero grad and backpropogate\n",
        "    W.grad = None\n",
        "    loss.backward()\n",
        "    \n",
        "    # update\n",
        "    W.data += -1.1 * W.grad"
      ],
      "metadata": {
        "colab": {
          "base_uri": "https://localhost:8080/"
        },
        "id": "tX6sVSh6kZrL",
        "outputId": "b1afc55e-6a4b-423f-8055-df222b9df762"
      },
      "execution_count": null,
      "outputs": [
        {
          "output_type": "stream",
          "name": "stdout",
          "text": [
            "loss = 3.6354827880859375\n",
            "loss = 3.308671236038208\n",
            "loss = 3.0976760387420654\n",
            "loss = 2.9632503986358643\n",
            "loss = 2.8731043338775635\n",
            "loss = 2.8085122108459473\n",
            "loss = 2.7600531578063965\n",
            "loss = 2.7228407859802246\n",
            "loss = 2.6938583850860596\n",
            "loss = 2.670914888381958\n",
            "loss = 2.6523597240448\n",
            "loss = 2.637005567550659\n",
            "loss = 2.6240315437316895\n",
            "loss = 2.612880229949951\n",
            "loss = 2.603166103363037\n",
            "loss = 2.5946133136749268\n",
            "loss = 2.587017297744751\n",
            "loss = 2.580223798751831\n",
            "loss = 2.568574905395508\n"
          ]
        }
      ]
    },
    {
      "cell_type": "code",
      "source": [
        "fig, ax = plt.subplots(figsize=(12, 12))\n",
        "\n",
        "im = ax.imshow(W.data.numpy())\n",
        "ax.xaxis.tick_top()\n",
        "ax.set_xticks(list(range(N)))\n",
        "ax.set_xticklabels([itoa[i] for i in range(N)])\n",
        "ax.set_yticks(list(range(N)))\n",
        "ax.set_yticklabels([itoa[i] for i in range(N)])\n",
        "\n",
        "fig.colorbar(im, fraction=0.046, pad=0.04)\n",
        "fig.show()"
      ],
      "metadata": {
        "colab": {
          "base_uri": "https://localhost:8080/",
          "height": 662
        },
        "id": "mPA26uZimlvn",
        "outputId": "b9e214fd-1766-4f19-fa49-20b123b2ef90"
      },
      "execution_count": null,
      "outputs": [
        {
          "output_type": "display_data",
          "data": {
            "text/plain": [
              "<Figure size 864x864 with 2 Axes>"
            ],
            "image/png": "[encoded data removed]"
          },
          "metadata": {
            "needs_background": "light"
          }
        }
      ]
    },
    {
      "cell_type": "code",
      "source": [
        "for _ in range(5):\n",
        "    out = []\n",
        "    ix = 0\n",
        "    while True:\n",
        "        with torch.no_grad():\n",
        "            xenc = F.one_hot(torch.tensor([ix]), num_classes=N).float()\n",
        "            logits = xenc @ W\n",
        "            prob = F.softmax(logits, dim=1)\n",
        "            ix = torch.multinomial(prob, 1, replacement=True).item()\n",
        "        out.append(itoa[ix])\n",
        "        \n",
        "        if ix == 0:\n",
        "            break\n",
        "        \n",
        "    print(\"\".join(out))"
      ],
      "metadata": {
        "colab": {
          "base_uri": "https://localhost:8080/"
        },
        "id": "NB77pS8dm96Z",
        "outputId": "dd8cd1f2-d3c7-4786-e134-3cbe3bb15a64"
      },
      "execution_count": null,
      "outputs": [
        {
          "output_type": "stream",
          "name": "stdout",
          "text": [
            "nelma.\n",
            "ash.\n",
            "fsh.\n",
            "thter.\n",
            "ddeyjarilgeeronnyan.\n"
          ]
        }
      ]
    },
    {
      "cell_type": "code",
      "source": [
        "for name in [\"emma\", \"daniel\", \"danil\", \"andrej\"]:\n",
        "    xs = []\n",
        "    ys = []\n",
        "    ename = \".\" + name + \".\"\n",
        "    for ch1, ch2 in zip(ename, ename[1:]):\n",
        "        xs.append(atoi[ch1])\n",
        "        ys.append(atoi[ch2])\n",
        "\n",
        "    with torch.no_grad():\n",
        "        xenc = F.one_hot(torch.tensor(xs), num_classes=N).float()\n",
        "        logits = xenc @ W\n",
        "        prob = F.softmax(logits, dim=1)\n",
        "        nll = -(prob * F.one_hot(torch.tensor(ys), num_classes=N).float()).sum(1).log().sum()\n",
        "    print(f\"{name} = {nll}\")\n"
      ],
      "metadata": {
        "colab": {
          "base_uri": "https://localhost:8080/"
        },
        "id": "RvGf8lqWv7Kr",
        "outputId": "f7d5566a-a1f9-4382-fc4f-ca33b73ee911"
      },
      "execution_count": null,
      "outputs": [
        {
          "output_type": "stream",
          "name": "stdout",
          "text": [
            "emma = 13.47731876373291\n",
            "daniel = 15.469144821166992\n",
            "danil = 13.828144073486328\n",
            "andrej = 21.34560775756836\n"
          ]
        }
      ]
    },
    {
      "cell_type": "code",
      "source": [],
      "metadata": {
        "id": "46Y9mlBdyfGr"
      },
      "execution_count": null,
      "outputs": []
    }
  ]
}